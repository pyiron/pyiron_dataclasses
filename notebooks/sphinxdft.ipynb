{
 "metadata": {
  "kernelspec": {
   "display_name": "Python 3 (ipykernel)",
   "language": "python",
   "name": "python3"
  },
  "language_info": {
   "codemirror_mode": {
    "name": "ipython",
    "version": 3
   },
   "file_extension": ".py",
   "mimetype": "text/x-python",
   "name": "python",
   "nbconvert_exporter": "python",
   "pygments_lexer": "ipython3",
   "version": "3.10.14"
  }
 },
 "nbformat_minor": 5,
 "nbformat": 4,
 "cells": [
  {
   "id": "8c0bad64-faf8-4a5d-ae50-b9044d7ef20c",
   "cell_type": "markdown",
   "source": "# Functions and Imports - no pyiron dependence",
   "metadata": {}
  },
  {
   "id": "28a9f0ec",
   "cell_type": "code",
   "source": [
    "from h5io_browser.base import read_dict_from_hdf, list_hdf, write_dict_to_hdf\n",
    "import os"
   ],
   "metadata": {
    "trusted": true
   },
   "outputs": [],
   "execution_count": 1
  },
  {
   "id": "d65123cf-f7bb-40d8-8747-44a406466b83",
   "cell_type": "code",
   "source": "from pyiron_io import convert_sphinx_job_dict",
   "metadata": {
    "trusted": true
   },
   "outputs": [],
   "execution_count": 2
  },
  {
   "id": "476148af-a9f3-4d90-84f6-c64e661d109d",
   "cell_type": "code",
   "source": "def get_node_from_job_dict(job_dict, node):\n    node_name_lst = node.split(\"/\")\n    tmp_dict = job_dict\n    for group in node_name_lst:\n        tmp_dict = tmp_dict[group]\n    return tmp_dict",
   "metadata": {
    "trusted": true
   },
   "outputs": [],
   "execution_count": 3
  },
  {
   "id": "c14198a4-2324-4bb6-bff8-fcc5818dcdfc",
   "cell_type": "markdown",
   "source": "# Create SPHInX job",
   "metadata": {}
  },
  {
   "id": "ffd464bb",
   "cell_type": "code",
   "source": "from pyiron_atomistics import Project",
   "metadata": {
    "trusted": true
   },
   "outputs": [],
   "execution_count": 4
  },
  {
   "id": "0d95fc61",
   "cell_type": "code",
   "source": "pr = Project(\"test\")",
   "metadata": {
    "trusted": true
   },
   "outputs": [],
   "execution_count": 5
  },
  {
   "id": "64427095",
   "cell_type": "code",
   "source": "pr.remove_jobs(recursive=True, silently=True)",
   "metadata": {
    "trusted": true
   },
   "outputs": [
    {
     "output_type": "display_data",
     "data": {
      "text/plain": "0it [00:00, ?it/s]",
      "application/vnd.jupyter.widget-view+json": {
       "version_major": 2,
       "version_minor": 0,
       "model_id": "841e94e868374701b621113b1af8f673"
      }
     },
     "metadata": {}
    }
   ],
   "execution_count": 6
  },
  {
   "id": "09b53d07",
   "cell_type": "code",
   "source": "structure = pr.create.structure.ase.bulk(\"Al\", cubic=True)",
   "metadata": {
    "trusted": true
   },
   "outputs": [],
   "execution_count": 7
  },
  {
   "id": "264e6228",
   "cell_type": "code",
   "source": "job = pr.create.job.Sphinx(\"sx\")",
   "metadata": {
    "trusted": true
   },
   "outputs": [],
   "execution_count": 8
  },
  {
   "id": "f29a4da4",
   "cell_type": "code",
   "source": "job.structure =structure",
   "metadata": {
    "trusted": true
   },
   "outputs": [],
   "execution_count": 9
  },
  {
   "id": "b5e9c630",
   "cell_type": "code",
   "source": "job.calc_minimize()",
   "metadata": {
    "trusted": true
   },
   "outputs": [],
   "execution_count": 10
  },
  {
   "id": "97a17236",
   "cell_type": "code",
   "source": "job.run()",
   "metadata": {
    "trusted": true
   },
   "outputs": [
    {
     "name": "stdout",
     "text": "The job sx was saved and received the ID: 1\n",
     "output_type": "stream"
    }
   ],
   "execution_count": 11
  },
  {
   "id": "f2ee05b2-b077-4d3a-a90c-84c82b1f33ff",
   "cell_type": "markdown",
   "source": "# Read job dictionary",
   "metadata": {}
  },
  {
   "id": "466a6a56-9433-49af-b1f2-30ce67715cc5",
   "cell_type": "code",
   "source": [
    "job_dict = read_dict_from_hdf(\n",
    "    file_name=job.project_hdf5.file_name,\n",
    "    h5_path=\"/\",\n",
    "    recursive=True,\n",
    "    slash='ignore',\n",
    ")"
   ],
   "metadata": {
    "trusted": true
   },
   "outputs": [],
   "execution_count": 12
  },
  {
   "id": "621b2855-9551-4e8e-a416-c704d13bfe0a",
   "cell_type": "code",
   "source": "convert_sphinx_job_dict(job_dict[job.job_name])",
   "metadata": {
    "trusted": true
   },
   "outputs": [
    {
     "execution_count": 13,
     "output_type": "execute_result",
     "data": {
      "text/plain": "SphinxJob(executable=Executable(version='2.6.1', name='sphinx', operation_system_nt=False, executable=None, mpi=False, accepted_return_codes=[0]), server=Server(user='pyiron', host='jupyter-pyiron-2ddev-2dpyiron-2dhdf5-2dformat-2dhrkn2dg5', run_mode='modal', queue=None, qid=None, cores=1, threads=1, new_h5=True, structure_id=None, run_time=None, memory_limit=None, accept_crash=False), calculation_input=SphinxInput(generic_dict=GenericDict(restart_file_list=[], restart_file_dict={}, exclude_nodes_hdf=[], exclude_groups_hdf=[]), interactive=Interactive(interactive_flush_frequency=1, interactive_write_frequency=1), generic=GenericInput(calc_mode='minimize', structure='atoms', fix_symmetry='True', k_mesh_spacing=None, k_mesh_center_shift=None, reduce_kpoint_symmetry=True, restart_for_band_structure=False, path_name=None, n_path=None, fix_spin_constraint=False, max_iter=None, temperature=None, n_ionic_steps=None, n_print=None, temperature_damping_timescale=None, pressure_damping_timescale=None, time_step=None), parameters=SphinxInputParameters(sphinx=SphinxInternalInput(paw_pot=PawPot(species=[Species(name='\"Al\"', pot_type='\"AtomPAW\"', element='\"Al\"', potential='\"Al_GGA.atomicdata\"')]), structure=SphinxStructure(cell=array([[7.6533908, 0.       , 0.       ],\n       [0.       , 7.6533908, 0.       ],\n       [0.       , 0.       , 7.6533908]]), species=[SphinxElement(element='\"Al\"', atom=[SphinxAtom(label='\"spin_0.0\"', coords=array([0., 0., 0.]), movable=True), SphinxAtom(label='\"spin_0.0\"', coords=array([0.       , 3.8266954, 3.8266954]), movable=True), SphinxAtom(label='\"spin_0.0\"', coords=array([3.8266954, 0.       , 3.8266954]), movable=True), SphinxAtom(label='\"spin_0.0\"', coords=array([3.8266954, 3.8266954, 0.       ]), movable=True)])]), basis=SphinxBasis(e_cut=24.989539079445393, k_point=SphinxKpoint(coords=array([0.5, 0.5, 0.5]), weight=1, relative=True), folding=array([4, 4, 4]), save_memory=True), paw_hamilton=SphinxPawHamiltonian(number_empty_states=7, ekt=0.2, methfessel_paxton=True, xc='PBE', spin_polarized=0), initial_guess=SphinxInitialGuess(waves=SphinxWaves(paw_basis=1, lcao={}), rho=SphinxRho(atomic_orbitals=1), no_waves_storage=False), main=SphinxMain(ric_qn=SphinxRicQN(max_steps=100, max_step_length=0.18897261246257704, born_oppenheimer=BornOppenheimer(scf_diag=ScfDiag(rho_mixing=1.0, spin_mixing=1.0, delta_energy=3.674932217565499e-06, max_steps='100', preconditioner=SphinxPreConditioner(type='KERKER', scaling=1.0, spin_scaling=1.0), block_ccg={}))))), encut=340.0, kpointcoords=[0.5, 0.5, 0.5], kpointfolding=[4, 4, 4], empty_states=7, methfessel_paxton=True, sigma=0.2, xcorr='PBE', vasppot=False, e_step=100, ediff=0.0001, write_waves=True, kj_xc=False, save_memory=True, rho_mixing=1.0, spin_mixing=1.0, rho_residual_scaling=1.0, spin_residual_scaling=1.0, check_overlap=True, threads=True, use_on_the_fly_cg_optimization=True, ionic_step=100), structure=Structure(dimension=3, indices=array([0, 0, 0, 0]), info={}, positions=array([[0.   , 0.   , 0.   ],\n       [0.   , 2.025, 2.025],\n       [2.025, 0.   , 2.025],\n       [2.025, 2.025, 0.   ]]), species=['Al'], cell=Cell(cell=array([[4.05, 0.  , 0.  ],\n       [0.  , 4.05, 0.  ],\n       [0.  , 0.  , 4.05]]), pbc=array([ True,  True,  True])), units=Units(length='A', mass='u'))), calculation_output=SphinxOutput(charge_density=SphinxOutputChargeDensity(total=array([[[0.00150861, 0.00147094, 0.00135604, ..., 0.00117422,\n         0.00135604, 0.00147094],\n        [0.00147094, 0.00143289, 0.00131906, ..., 0.00114217,\n         0.00131906, 0.00143289],\n        [0.00135604, 0.00131906, 0.00121272, ..., 0.00105142,\n         0.00121272, 0.00131906],\n        ...,\n        [0.00117422, 0.00114217, 0.00105142, ..., 0.00091228,\n         0.00105142, 0.00114217],\n        [0.00135604, 0.00131906, 0.00121272, ..., 0.00105142,\n         0.00121272, 0.00131906],\n        [0.00147094, 0.00143289, 0.00131906, ..., 0.00114217,\n         0.00131906, 0.00143289]],\n\n       [[0.00147094, 0.00143289, 0.00131906, ..., 0.00114217,\n         0.00131906, 0.00143289],\n        [0.00143289, 0.00139502, 0.00128321, ..., 0.00111136,\n         0.00128321, 0.00139502],\n        [0.00131906, 0.00128321, 0.00118001, ..., 0.00102318,\n         0.00118001, 0.00128321],\n        ...,\n        [0.00114217, 0.00111136, 0.00102318, ..., 0.0008874 ,\n         0.00102318, 0.00111136],\n        [0.00131906, 0.00128321, 0.00118001, ..., 0.00102318,\n         0.00118001, 0.00128321],\n        [0.00143289, 0.00139502, 0.00128321, ..., 0.00111136,\n         0.00128321, 0.00139502]],\n\n       [[0.00135604, 0.00131906, 0.00121272, ..., 0.00105142,\n         0.00121272, 0.00131906],\n        [0.00131906, 0.00128321, 0.00118001, ..., 0.00102318,\n         0.00118001, 0.00128321],\n        [0.00121272, 0.00118001, 0.0010853 , ..., 0.00094061,\n         0.0010853 , 0.00118001],\n        ...,\n        [0.00105142, 0.00102318, 0.00094061, ..., 0.00081458,\n         0.00094061, 0.00102318],\n        [0.00121272, 0.00118001, 0.0010853 , ..., 0.00094061,\n         0.0010853 , 0.00118001],\n        [0.00131906, 0.00128321, 0.00118001, ..., 0.00102318,\n         0.00118001, 0.00128321]],\n\n       ...,\n\n       [[0.00117422, 0.00114217, 0.00105142, ..., 0.00091228,\n         0.00105142, 0.00114217],\n        [0.00114217, 0.00111136, 0.00102318, ..., 0.0008874 ,\n         0.00102318, 0.00111136],\n        [0.00105142, 0.00102318, 0.00094061, ..., 0.00081458,\n         0.00094061, 0.00102318],\n        ...,\n        [0.00091228, 0.0008874 , 0.00081458, ..., 0.00070832,\n         0.00081458, 0.0008874 ],\n        [0.00105142, 0.00102318, 0.00094061, ..., 0.00081458,\n         0.00094061, 0.00102318],\n        [0.00114217, 0.00111136, 0.00102318, ..., 0.0008874 ,\n         0.00102318, 0.00111136]],\n\n       [[0.00135604, 0.00131906, 0.00121272, ..., 0.00105142,\n         0.00121272, 0.00131906],\n        [0.00131906, 0.00128321, 0.00118001, ..., 0.00102318,\n         0.00118001, 0.00128321],\n        [0.00121272, 0.00118001, 0.0010853 , ..., 0.00094061,\n         0.0010853 , 0.00118001],\n        ...,\n        [0.00105142, 0.00102318, 0.00094061, ..., 0.00081458,\n         0.00094061, 0.00102318],\n        [0.00121272, 0.00118001, 0.0010853 , ..., 0.00094061,\n         0.0010853 , 0.00118001],\n        [0.00131906, 0.00128321, 0.00118001, ..., 0.00102318,\n         0.00118001, 0.00128321]],\n\n       [[0.00147094, 0.00143289, 0.00131906, ..., 0.00114217,\n         0.00131906, 0.00143289],\n        [0.00143289, 0.00139502, 0.00128321, ..., 0.00111136,\n         0.00128321, 0.00139502],\n        [0.00131906, 0.00128321, 0.00118001, ..., 0.00102318,\n         0.00118001, 0.00128321],\n        ...,\n        [0.00114217, 0.00111136, 0.00102318, ..., 0.0008874 ,\n         0.00102318, 0.00111136],\n        [0.00131906, 0.00128321, 0.00118001, ..., 0.00102318,\n         0.00118001, 0.00128321],\n        [0.00143289, 0.00139502, 0.00128321, ..., 0.00111136,\n         0.00128321, 0.00139502]]])), electronic_structure=SphinxElectronicStructure(efermi=5.702855, eig_matrix=array([[[-5.14  ,  1.4239,  1.4239,  1.4239,  5.9395,  5.9395,  5.9395,\n          7.7795,  7.7795,  7.7795, 11.4635, 11.4635, 11.4635],\n        [-4.0192, -1.8032,  2.4931,  2.4931,  4.6314,  4.6314,  7.0213,\n          7.0213,  8.8036,  9.1648,  9.1648, 10.8941, 11.1662],\n        [-2.9064, -0.7059, -0.7059,  1.4616,  3.5798,  5.6987,  5.6987,\n          7.8086,  8.0932, 10.1435, 10.1435, 12.2069, 13.4422],\n        [-1.8011,  0.3824,  0.3824,  0.3824,  2.5575,  2.5575,  2.5575,\n          4.6931, 13.1794, 13.1794, 13.1794, 14.4334, 14.4334]]]), k_points=array([[0.1592067, 0.1592067, 0.1592067],\n       [0.1592067, 0.1592067, 0.4776201],\n       [0.1592067, 0.4776201, 0.4776201],\n       [0.4776201, 0.4776201, 0.4776201]]), k_weights=array([0.125, 0.375, 0.375, 0.125]), occ_matrix=array([[[ 2.    ,  2.    ,  2.    ,  2.    , -0.0704, -0.0704, -0.0704,\n          0.    ,  0.    ,  0.    ,  0.    ,  0.    ,  0.    ],\n        [ 2.    ,  2.    ,  2.    ,  2.    ,  2.    ,  2.    , -0.    ,\n         -0.    ,  0.    ,  0.    ,  0.    ,  0.    ,  0.    ],\n        [ 2.    ,  2.    ,  2.    ,  2.    ,  2.    ,  1.0352,  1.0352,\n          0.    ,  0.    ,  0.    ,  0.    ,  0.    ,  0.    ],\n        [ 2.    ,  2.    ,  2.    ,  2.    ,  2.    ,  2.    ,  2.    ,\n          2.    ,  0.    ,  0.    ,  0.    ,  0.    ,  0.    ]]]), dos=SphinxDensityOfStates(energies='energies is not stored in SPHInX; use job.get_density_of_states instead', int_densities='int_densities is not stored in SPHInX; use job.get_density_of_states instead', tot_densities='tot_densities is not stored in SPHInX; use job.get_density_of_states instead')), electrostatic_potential=SphinxElectrostaticPotential(total=array([[[-130.0129419 , -129.70839772, -118.52928072, ...,\n          -82.05071029, -118.52928072, -129.70839772],\n        [-129.70839772, -127.55481586, -112.28869827, ...,\n          -74.34465334, -112.28869827, -127.55481586],\n        [-118.52928072, -112.28869827,  -89.88977639, ...,\n          -53.27368971,  -89.88977639, -112.28869827],\n        ...,\n        [ -82.05071029,  -74.34465334,  -53.27368971, ...,\n          -28.44967772,  -53.27368971,  -74.34465334],\n        [-118.52928072, -112.28869827,  -89.88977639, ...,\n          -53.27368971,  -89.88977639, -112.28869827],\n        [-129.70839772, -127.55481586, -112.28869827, ...,\n          -74.34465334, -112.28869827, -127.55481586]],\n\n       [[-129.70839772, -127.55481586, -112.28869827, ...,\n          -74.34465334, -112.28869827, -127.55481586],\n        [-127.55481586, -123.76048619, -105.25937012, ...,\n          -66.90580194, -105.25937012, -123.76048619],\n        [-112.28869827, -105.25937012,  -82.03937596, ...,\n          -47.19192633,  -82.03937596, -105.25937012],\n        ...,\n        [ -74.34465334,  -66.90580194,  -47.19192633, ...,\n          -25.01355294,  -47.19192633,  -66.90580194],\n        [-112.28869827, -105.25937012,  -82.03937596, ...,\n          -47.19192633,  -82.03937596, -105.25937012],\n        [-127.55481586, -123.76048619, -105.25937012, ...,\n          -66.90580194, -105.25937012, -123.76048619]],\n\n       [[-118.52928072, -112.28869827,  -89.88977639, ...,\n          -53.27368971,  -89.88977639, -112.28869827],\n        [-112.28869827, -105.25937012,  -82.03937596, ...,\n          -47.19192633,  -82.03937596, -105.25937012],\n        [ -89.88977639,  -82.03937596,  -59.83843707, ...,\n          -32.29973245,  -59.83843707,  -82.03937596],\n        ...,\n        [ -53.27368971,  -47.19192633,  -32.29973245, ...,\n          -17.43918037,  -32.29973245,  -47.19192633],\n        [ -89.88977639,  -82.03937596,  -59.83843707, ...,\n          -32.29973245,  -59.83843707,  -82.03937596],\n        [-112.28869827, -105.25937012,  -82.03937596, ...,\n          -47.19192633,  -82.03937596, -105.25937012]],\n\n       ...,\n\n       [[ -82.05071029,  -74.34465334,  -53.27368971, ...,\n          -28.44967772,  -53.27368971,  -74.34465334],\n        [ -74.34465334,  -66.90580194,  -47.19192633, ...,\n          -25.01355294,  -47.19192633,  -66.90580194],\n        [ -53.27368971,  -47.19192633,  -32.29973245, ...,\n          -17.43918037,  -32.29973245,  -47.19192633],\n        ...,\n        [ -28.44967772,  -25.01355294,  -17.43918037, ...,\n          -10.9255642 ,  -17.43918037,  -25.01355294],\n        [ -53.27368971,  -47.19192633,  -32.29973245, ...,\n          -17.43918037,  -32.29973245,  -47.19192633],\n        [ -74.34465334,  -66.90580194,  -47.19192633, ...,\n          -25.01355294,  -47.19192633,  -66.90580194]],\n\n       [[-118.52928072, -112.28869827,  -89.88977639, ...,\n          -53.27368971,  -89.88977639, -112.28869827],\n        [-112.28869827, -105.25937012,  -82.03937596, ...,\n          -47.19192633,  -82.03937596, -105.25937012],\n        [ -89.88977639,  -82.03937596,  -59.83843707, ...,\n          -32.29973245,  -59.83843707,  -82.03937596],\n        ...,\n        [ -53.27368971,  -47.19192633,  -32.29973245, ...,\n          -17.43918037,  -32.29973245,  -47.19192633],\n        [ -89.88977639,  -82.03937596,  -59.83843707, ...,\n          -32.29973245,  -59.83843707,  -82.03937596],\n        [-112.28869827, -105.25937012,  -82.03937596, ...,\n          -47.19192633,  -82.03937596, -105.25937012]],\n\n       [[-129.70839772, -127.55481586, -112.28869827, ...,\n          -74.34465334, -112.28869827, -127.55481586],\n        [-127.55481586, -123.76048619, -105.25937012, ...,\n          -66.90580194, -105.25937012, -123.76048619],\n        [-112.28869827, -105.25937012,  -82.03937596, ...,\n          -47.19192633,  -82.03937596, -105.25937012],\n        ...,\n        [ -74.34465334,  -66.90580194,  -47.19192633, ...,\n          -25.01355294,  -47.19192633,  -66.90580194],\n        [-112.28869827, -105.25937012,  -82.03937596, ...,\n          -47.19192633,  -82.03937596, -105.25937012],\n        [-127.55481586, -123.76048619, -105.25937012, ...,\n          -66.90580194, -105.25937012, -123.76048619]]])), generic=GenericOutput(cells=<Quantity([[[4.05 0.   0.  ]\n  [0.   4.05 0.  ]\n  [0.   0.   4.05]]\n\n [[4.05 0.   0.  ]\n  [0.   4.05 0.  ]\n  [0.   0.   4.05]]], 'angstrom')>, energy_pot=<Quantity([-228.78316018 -228.78315944], 'electron_volt')>, energy_tot=<Quantity([-228.78316018 -228.78315944], 'electron_volt')>, forces=<Quantity([[[ 0. -0.  0.]\n  [-0.  0. -0.]\n  [-0. -0. -0.]\n  [ 0.  0.  0.]]\n\n [[ 0.  0.  0.]\n  [ 0. -0.  0.]\n  [-0.  0.  0.]\n  [-0. -0.  0.]]], 'electron_volt / angstrom')>, indices=None, natoms=None, positions=<Quantity([[[ 0.     0.     0.   ]\n  [ 0.     2.025  2.025]\n  [ 2.025  0.     2.025]\n  [ 2.025  2.025  0.   ]]\n\n [[ 0.    -0.     0.   ]\n  [-0.     2.025  2.025]\n  [ 2.025  0.     2.025]\n  [ 2.025  2.025  0.   ]]], 'angstrom')>, pressures=None, steps=None, temperature=None, unwrapped_positions=None, velocities=None, volume=<Quantity([66.43016886 66.43016886], 'angstrom ** 3')>, dft=OutputGenericDFT(energy_free=<Quantity([-228.78316018 -228.78315944], 'electron_volt')>, n_valence={'Al': 3}, bands_k_weights=array([0.125, 0.375, 0.375, 0.125]), kpoints_cartesian=array([[0.1592067, 0.1592067, 0.1592067],\n       [0.1592067, 0.1592067, 0.4776201],\n       [0.1592067, 0.4776201, 0.4776201],\n       [0.4776201, 0.4776201, 0.4776201]]), bands_e_fermi=array([5.864736, 5.702807, 5.702836, 5.702855]), bands_occ=array([[[ 2.    ,  2.    ,  2.    ,  2.    , -0.0703, -0.0704, -0.0704,\n          0.    ,  0.    ,  0.    ,  0.    ,  0.    ,  0.    ],\n        [ 2.    ,  2.    ,  2.    ,  2.    ,  2.    ,  2.    , -0.    ,\n         -0.    ,  0.    ,  0.    ,  0.    ,  0.    ,  0.    ],\n        [ 2.    ,  2.    ,  2.    ,  2.    ,  2.    ,  1.0356,  1.0347,\n          0.    ,  0.    ,  0.    ,  0.    ,  0.    ,  0.    ],\n        [ 2.    ,  2.    ,  2.    ,  2.    ,  2.    ,  2.    ,  2.    ,\n          2.    ,  0.    ,  0.    ,  0.    ,  0.    ,  0.    ]],\n\n       [[ 2.    ,  2.    ,  2.    ,  2.    , -0.0704, -0.0704, -0.0704,\n          0.    ,  0.    ,  0.    ,  0.    ,  0.    ,  0.    ],\n        [ 2.    ,  2.    ,  2.    ,  2.    ,  2.    ,  2.    , -0.    ,\n         -0.    ,  0.    ,  0.    ,  0.    ,  0.    ,  0.    ],\n        [ 2.    ,  2.    ,  2.    ,  2.    ,  2.    ,  1.0352,  1.0352,\n          0.    ,  0.    ,  0.    ,  0.    ,  0.    ,  0.    ],\n        [ 2.    ,  2.    ,  2.    ,  2.    ,  2.    ,  2.    ,  2.    ,\n          2.    ,  0.    ,  0.    ,  0.    ,  0.    ,  0.    ]]]), bands_eigen_values=array([[[-5.14  ,  1.4238,  1.4239,  1.4239,  5.9394,  5.9395,  5.9395,\n          7.7794,  7.7795,  7.7795, 11.4633, 11.4633, 11.4635],\n        [-4.0193, -1.8032,  2.4931,  2.4931,  4.6313,  4.6314,  7.0212,\n          7.0213,  8.8035,  9.1646,  9.1649, 10.894 , 11.1662],\n        [-2.9064, -0.7059, -0.7059,  1.4615,  3.5798,  5.6986,  5.6987,\n          7.8085,  8.0932, 10.1434, 10.1435, 12.2068, 13.4422],\n        [-1.8011,  0.3824,  0.3824,  0.3824,  2.5573,  2.5575,  2.5575,\n          4.693 , 13.1792, 13.1793, 13.1793, 14.4332, 14.4334]],\n\n       [[-5.14  ,  1.4239,  1.4239,  1.4239,  5.9395,  5.9395,  5.9395,\n          7.7795,  7.7795,  7.7795, 11.4635, 11.4635, 11.4635],\n        [-4.0192, -1.8032,  2.4931,  2.4931,  4.6314,  4.6314,  7.0213,\n          7.0213,  8.8036,  9.1648,  9.1648, 10.8941, 11.1662],\n        [-2.9064, -0.7059, -0.7059,  1.4616,  3.5798,  5.6987,  5.6987,\n          7.8086,  8.0932, 10.1435, 10.1435, 12.2069, 13.4422],\n        [-1.8011,  0.3824,  0.3824,  0.3824,  2.5575,  2.5575,  2.5575,\n          4.6931, 13.1794, 13.1794, 13.1794, 14.4334, 14.4334]]]), scf_convergence=[True, True], scf_energy_int=<Quantity([array([-227.76073135, -228.76487746, -228.75055037, -228.75030395,\n        -228.75029236])\n array([-228.75029155, -228.75029152])], 'electron_volt')>, scf_energy_free=<Quantity([array([-227.79757673, -228.79771858, -228.78341073, -228.78317077,\n        -228.78316018])\n array([-228.78315943, -228.78315944])], 'electron_volt')>, scf_computation_time=array([array([1.32064 , 2.660864, 3.98608 , 5.339911, 6.683524]),\n       array([7.981192, 9.316789])], dtype=object), scf_energy_zero=array([array([-227.78836538, -228.7895083 , -228.77519564, -228.77495407,\n              -228.77494323])                                            ,\n       array([-228.77494246, -228.77494246])], dtype=object), scf_energy_band=array([array([15.05566482, 13.62260753, 13.80978426, 13.83579452, 13.84051221]),\n       array([13.84081386, 13.84101605])], dtype=object), scf_electronic_entropy=array([array([5.01306946, 4.46826186, 4.47087874, 4.47175913, 4.47189425]),\n       array([4.47190311, 4.4719075 ])], dtype=object), scf_residue=array([array([5.57072e-03, 1.65550e-03, 2.37401e-04, 4.03935e-05, 6.62098e-06]),\n       array([1.48271e-06, 1.86194e-07])], dtype=object), energy_int=array([-228.75029236, -228.75029152]), computation_time=array([6.683524, 9.316789]), energy_zero=<Quantity([-228.77494323 -228.77494246], 'electron_volt')>, energy_band=<Quantity([13.84051221 13.84101605], 'electron_volt')>, electronic_entropy=array([4.47189425, 4.4719075 ]), residue=array([6.62098e-06, 1.86194e-07])))), job_id=1, status='finished')"
     },
     "metadata": {}
    }
   ],
   "execution_count": 13
  },
  {
   "id": "833b5bf1-7082-4eea-be5f-c7c29a5a8ae2",
   "cell_type": "markdown",
   "source": "# Get SPHInX schema",
   "metadata": {}
  },
  {
   "id": "59dacba5",
   "cell_type": "code",
   "source": "file_name = job.project_hdf5.file_name\nfile_name",
   "metadata": {
    "trusted": true
   },
   "outputs": [
    {
     "execution_count": 14,
     "output_type": "execute_result",
     "data": {
      "text/plain": "'/home/jovyan/test/sx.h5'"
     },
     "metadata": {}
    }
   ],
   "execution_count": 14
  },
  {
   "id": "2d41032f-cc33-4340-84f8-2d22ff30acc5",
   "cell_type": "code",
   "source": "node_lst = list_hdf(file_name=file_name, h5_path=\"/\", recursive=True)[0]\nnode_lst",
   "metadata": {
    "trusted": true
   },
   "outputs": [
    {
     "execution_count": 15,
     "output_type": "execute_result",
     "data": {
      "text/plain": "['/sx/DICT_VERSION',\n '/sx/HDF_VERSION',\n '/sx/NAME',\n '/sx/OBJECT',\n '/sx/TYPE',\n '/sx/VERSION',\n '/sx/executable',\n '/sx/job_id',\n '/sx/server',\n '/sx/status',\n '/sx/input/generic_dict',\n '/sx/input/interactive',\n '/sx/input/generic/DICT_VERSION',\n '/sx/input/generic/NAME',\n '/sx/input/generic/OBJECT',\n '/sx/input/generic/TYPE',\n '/sx/input/generic/VERSION',\n '/sx/input/generic/data_dict',\n '/sx/input/parameters/CheckOverlap__index_18',\n '/sx/input/parameters/Ediff__index_10',\n '/sx/input/parameters/EmptyStates__index_4',\n '/sx/input/parameters/EnCut__index_1',\n '/sx/input/parameters/Estep__index_9',\n '/sx/input/parameters/HDF_VERSION',\n '/sx/input/parameters/Istep__index_21',\n '/sx/input/parameters/KJxc__index_12',\n '/sx/input/parameters/KpointCoords__index_2',\n '/sx/input/parameters/KpointFolding__index_3',\n '/sx/input/parameters/MethfesselPaxton__index_5',\n '/sx/input/parameters/NAME',\n '/sx/input/parameters/OBJECT',\n '/sx/input/parameters/READ_ONLY',\n '/sx/input/parameters/SaveMemory__index_13',\n '/sx/input/parameters/Sigma__index_6',\n '/sx/input/parameters/THREADS__index_19',\n '/sx/input/parameters/TYPE',\n '/sx/input/parameters/VERSION',\n '/sx/input/parameters/VaspPot__index_8',\n '/sx/input/parameters/WriteWaves__index_11',\n '/sx/input/parameters/Xcorr__index_7',\n '/sx/input/parameters/rhoMixing__index_14',\n '/sx/input/parameters/rhoResidualScaling__index_16',\n '/sx/input/parameters/spinMixing__index_15',\n '/sx/input/parameters/spinResidualScaling__index_17',\n '/sx/input/parameters/use_on_the_fly_cg_optimization__index_20',\n '/sx/input/parameters/sphinx__index_0/HDF_VERSION',\n '/sx/input/parameters/sphinx__index_0/NAME',\n '/sx/input/parameters/sphinx__index_0/OBJECT',\n '/sx/input/parameters/sphinx__index_0/READ_ONLY',\n '/sx/input/parameters/sphinx__index_0/TYPE',\n '/sx/input/parameters/sphinx__index_0/VERSION',\n '/sx/input/parameters/sphinx__index_0/PAWHamiltonian__index_3/HDF_VERSION',\n '/sx/input/parameters/sphinx__index_0/PAWHamiltonian__index_3/MethfesselPaxton__index_2',\n '/sx/input/parameters/sphinx__index_0/PAWHamiltonian__index_3/NAME',\n '/sx/input/parameters/sphinx__index_0/PAWHamiltonian__index_3/OBJECT',\n '/sx/input/parameters/sphinx__index_0/PAWHamiltonian__index_3/READ_ONLY',\n '/sx/input/parameters/sphinx__index_0/PAWHamiltonian__index_3/TYPE',\n '/sx/input/parameters/sphinx__index_0/PAWHamiltonian__index_3/VERSION',\n '/sx/input/parameters/sphinx__index_0/PAWHamiltonian__index_3/ekt__index_1',\n '/sx/input/parameters/sphinx__index_0/PAWHamiltonian__index_3/nEmptyStates__index_0',\n '/sx/input/parameters/sphinx__index_0/PAWHamiltonian__index_3/spinPolarized__index_4',\n '/sx/input/parameters/sphinx__index_0/PAWHamiltonian__index_3/xc__index_3',\n '/sx/input/parameters/sphinx__index_0/basis__index_2/HDF_VERSION',\n '/sx/input/parameters/sphinx__index_0/basis__index_2/NAME',\n '/sx/input/parameters/sphinx__index_0/basis__index_2/OBJECT',\n '/sx/input/parameters/sphinx__index_0/basis__index_2/READ_ONLY',\n '/sx/input/parameters/sphinx__index_0/basis__index_2/TYPE',\n '/sx/input/parameters/sphinx__index_0/basis__index_2/VERSION',\n '/sx/input/parameters/sphinx__index_0/basis__index_2/eCut__index_0',\n '/sx/input/parameters/sphinx__index_0/basis__index_2/folding__index_2',\n '/sx/input/parameters/sphinx__index_0/basis__index_2/saveMemory__index_3',\n '/sx/input/parameters/sphinx__index_0/basis__index_2/kPoint__index_1/HDF_VERSION',\n '/sx/input/parameters/sphinx__index_0/basis__index_2/kPoint__index_1/NAME',\n '/sx/input/parameters/sphinx__index_0/basis__index_2/kPoint__index_1/OBJECT',\n '/sx/input/parameters/sphinx__index_0/basis__index_2/kPoint__index_1/READ_ONLY',\n '/sx/input/parameters/sphinx__index_0/basis__index_2/kPoint__index_1/TYPE',\n '/sx/input/parameters/sphinx__index_0/basis__index_2/kPoint__index_1/VERSION',\n '/sx/input/parameters/sphinx__index_0/basis__index_2/kPoint__index_1/coords__index_0',\n '/sx/input/parameters/sphinx__index_0/basis__index_2/kPoint__index_1/relative__index_2',\n '/sx/input/parameters/sphinx__index_0/basis__index_2/kPoint__index_1/weight__index_1',\n '/sx/input/parameters/sphinx__index_0/initialGuess__index_4/HDF_VERSION',\n '/sx/input/parameters/sphinx__index_0/initialGuess__index_4/NAME',\n '/sx/input/parameters/sphinx__index_0/initialGuess__index_4/OBJECT',\n '/sx/input/parameters/sphinx__index_0/initialGuess__index_4/READ_ONLY',\n '/sx/input/parameters/sphinx__index_0/initialGuess__index_4/TYPE',\n '/sx/input/parameters/sphinx__index_0/initialGuess__index_4/VERSION',\n '/sx/input/parameters/sphinx__index_0/initialGuess__index_4/noWavesStorage__index_2',\n '/sx/input/parameters/sphinx__index_0/initialGuess__index_4/rho__index_1/HDF_VERSION',\n '/sx/input/parameters/sphinx__index_0/initialGuess__index_4/rho__index_1/NAME',\n '/sx/input/parameters/sphinx__index_0/initialGuess__index_4/rho__index_1/OBJECT',\n '/sx/input/parameters/sphinx__index_0/initialGuess__index_4/rho__index_1/READ_ONLY',\n '/sx/input/parameters/sphinx__index_0/initialGuess__index_4/rho__index_1/TYPE',\n '/sx/input/parameters/sphinx__index_0/initialGuess__index_4/rho__index_1/VERSION',\n '/sx/input/parameters/sphinx__index_0/initialGuess__index_4/rho__index_1/atomicOrbitals__index_0',\n '/sx/input/parameters/sphinx__index_0/initialGuess__index_4/waves__index_0/HDF_VERSION',\n '/sx/input/parameters/sphinx__index_0/initialGuess__index_4/waves__index_0/NAME',\n '/sx/input/parameters/sphinx__index_0/initialGuess__index_4/waves__index_0/OBJECT',\n '/sx/input/parameters/sphinx__index_0/initialGuess__index_4/waves__index_0/READ_ONLY',\n '/sx/input/parameters/sphinx__index_0/initialGuess__index_4/waves__index_0/TYPE',\n '/sx/input/parameters/sphinx__index_0/initialGuess__index_4/waves__index_0/VERSION',\n '/sx/input/parameters/sphinx__index_0/initialGuess__index_4/waves__index_0/pawBasis__index_0',\n '/sx/input/parameters/sphinx__index_0/initialGuess__index_4/waves__index_0/lcao__index_1/HDF_VERSION',\n '/sx/input/parameters/sphinx__index_0/initialGuess__index_4/waves__index_0/lcao__index_1/NAME',\n '/sx/input/parameters/sphinx__index_0/initialGuess__index_4/waves__index_0/lcao__index_1/OBJECT',\n '/sx/input/parameters/sphinx__index_0/initialGuess__index_4/waves__index_0/lcao__index_1/READ_ONLY',\n '/sx/input/parameters/sphinx__index_0/initialGuess__index_4/waves__index_0/lcao__index_1/TYPE',\n '/sx/input/parameters/sphinx__index_0/initialGuess__index_4/waves__index_0/lcao__index_1/VERSION',\n '/sx/input/parameters/sphinx__index_0/main__index_5/HDF_VERSION',\n '/sx/input/parameters/sphinx__index_0/main__index_5/NAME',\n '/sx/input/parameters/sphinx__index_0/main__index_5/OBJECT',\n '/sx/input/parameters/sphinx__index_0/main__index_5/READ_ONLY',\n '/sx/input/parameters/sphinx__index_0/main__index_5/TYPE',\n '/sx/input/parameters/sphinx__index_0/main__index_5/VERSION',\n '/sx/input/parameters/sphinx__index_0/main__index_5/ricQN__index_0/HDF_VERSION',\n '/sx/input/parameters/sphinx__index_0/main__index_5/ricQN__index_0/NAME',\n '/sx/input/parameters/sphinx__index_0/main__index_5/ricQN__index_0/OBJECT',\n '/sx/input/parameters/sphinx__index_0/main__index_5/ricQN__index_0/READ_ONLY',\n '/sx/input/parameters/sphinx__index_0/main__index_5/ricQN__index_0/TYPE',\n '/sx/input/parameters/sphinx__index_0/main__index_5/ricQN__index_0/VERSION',\n '/sx/input/parameters/sphinx__index_0/main__index_5/ricQN__index_0/maxStepLength__index_1',\n '/sx/input/parameters/sphinx__index_0/main__index_5/ricQN__index_0/maxSteps__index_0',\n '/sx/input/parameters/sphinx__index_0/main__index_5/ricQN__index_0/bornOppenheimer__index_2/HDF_VERSION',\n '/sx/input/parameters/sphinx__index_0/main__index_5/ricQN__index_0/bornOppenheimer__index_2/NAME',\n '/sx/input/parameters/sphinx__index_0/main__index_5/ricQN__index_0/bornOppenheimer__index_2/OBJECT',\n '/sx/input/parameters/sphinx__index_0/main__index_5/ricQN__index_0/bornOppenheimer__index_2/READ_ONLY',\n '/sx/input/parameters/sphinx__index_0/main__index_5/ricQN__index_0/bornOppenheimer__index_2/TYPE',\n '/sx/input/parameters/sphinx__index_0/main__index_5/ricQN__index_0/bornOppenheimer__index_2/VERSION',\n '/sx/input/parameters/sphinx__index_0/main__index_5/ricQN__index_0/bornOppenheimer__index_2/scfDiag__index_0/HDF_VERSION',\n '/sx/input/parameters/sphinx__index_0/main__index_5/ricQN__index_0/bornOppenheimer__index_2/scfDiag__index_0/NAME',\n '/sx/input/parameters/sphinx__index_0/main__index_5/ricQN__index_0/bornOppenheimer__index_2/scfDiag__index_0/OBJECT',\n '/sx/input/parameters/sphinx__index_0/main__index_5/ricQN__index_0/bornOppenheimer__index_2/scfDiag__index_0/READ_ONLY',\n '/sx/input/parameters/sphinx__index_0/main__index_5/ricQN__index_0/bornOppenheimer__index_2/scfDiag__index_0/TYPE',\n '/sx/input/parameters/sphinx__index_0/main__index_5/ricQN__index_0/bornOppenheimer__index_2/scfDiag__index_0/VERSION',\n '/sx/input/parameters/sphinx__index_0/main__index_5/ricQN__index_0/bornOppenheimer__index_2/scfDiag__index_0/dEnergy__index_2',\n '/sx/input/parameters/sphinx__index_0/main__index_5/ricQN__index_0/bornOppenheimer__index_2/scfDiag__index_0/maxSteps__index_3',\n '/sx/input/parameters/sphinx__index_0/main__index_5/ricQN__index_0/bornOppenheimer__index_2/scfDiag__index_0/rhoMixing__index_0',\n '/sx/input/parameters/sphinx__index_0/main__index_5/ricQN__index_0/bornOppenheimer__index_2/scfDiag__index_0/spinMixing__index_1',\n '/sx/input/parameters/sphinx__index_0/main__index_5/ricQN__index_0/bornOppenheimer__index_2/scfDiag__index_0/blockCCG__index_5/HDF_VERSION',\n '/sx/input/parameters/sphinx__index_0/main__index_5/ricQN__index_0/bornOppenheimer__index_2/scfDiag__index_0/blockCCG__index_5/NAME',\n '/sx/input/parameters/sphinx__index_0/main__index_5/ricQN__index_0/bornOppenheimer__index_2/scfDiag__index_0/blockCCG__index_5/OBJECT',\n '/sx/input/parameters/sphinx__index_0/main__index_5/ricQN__index_0/bornOppenheimer__index_2/scfDiag__index_0/blockCCG__index_5/READ_ONLY',\n '/sx/input/parameters/sphinx__index_0/main__index_5/ricQN__index_0/bornOppenheimer__index_2/scfDiag__index_0/blockCCG__index_5/TYPE',\n '/sx/input/parameters/sphinx__index_0/main__index_5/ricQN__index_0/bornOppenheimer__index_2/scfDiag__index_0/blockCCG__index_5/VERSION',\n '/sx/input/parameters/sphinx__index_0/main__index_5/ricQN__index_0/bornOppenheimer__index_2/scfDiag__index_0/preconditioner__index_4/HDF_VERSION',\n '/sx/input/parameters/sphinx__index_0/main__index_5/ricQN__index_0/bornOppenheimer__index_2/scfDiag__index_0/preconditioner__index_4/NAME',\n '/sx/input/parameters/sphinx__index_0/main__index_5/ricQN__index_0/bornOppenheimer__index_2/scfDiag__index_0/preconditioner__index_4/OBJECT',\n '/sx/input/parameters/sphinx__index_0/main__index_5/ricQN__index_0/bornOppenheimer__index_2/scfDiag__index_0/preconditioner__index_4/READ_ONLY',\n '/sx/input/parameters/sphinx__index_0/main__index_5/ricQN__index_0/bornOppenheimer__index_2/scfDiag__index_0/preconditioner__index_4/TYPE',\n '/sx/input/parameters/sphinx__index_0/main__index_5/ricQN__index_0/bornOppenheimer__index_2/scfDiag__index_0/preconditioner__index_4/VERSION',\n '/sx/input/parameters/sphinx__index_0/main__index_5/ricQN__index_0/bornOppenheimer__index_2/scfDiag__index_0/preconditioner__index_4/scaling__index_1',\n '/sx/input/parameters/sphinx__index_0/main__index_5/ricQN__index_0/bornOppenheimer__index_2/scfDiag__index_0/preconditioner__index_4/spinScaling__index_2',\n '/sx/input/parameters/sphinx__index_0/main__index_5/ricQN__index_0/bornOppenheimer__index_2/scfDiag__index_0/preconditioner__index_4/type__index_0',\n '/sx/input/parameters/sphinx__index_0/pawPot__index_0/HDF_VERSION',\n '/sx/input/parameters/sphinx__index_0/pawPot__index_0/NAME',\n '/sx/input/parameters/sphinx__index_0/pawPot__index_0/OBJECT',\n '/sx/input/parameters/sphinx__index_0/pawPot__index_0/READ_ONLY',\n '/sx/input/parameters/sphinx__index_0/pawPot__index_0/TYPE',\n '/sx/input/parameters/sphinx__index_0/pawPot__index_0/VERSION',\n '/sx/input/parameters/sphinx__index_0/pawPot__index_0/species__index_0/HDF_VERSION',\n '/sx/input/parameters/sphinx__index_0/pawPot__index_0/species__index_0/NAME',\n '/sx/input/parameters/sphinx__index_0/pawPot__index_0/species__index_0/OBJECT',\n '/sx/input/parameters/sphinx__index_0/pawPot__index_0/species__index_0/READ_ONLY',\n '/sx/input/parameters/sphinx__index_0/pawPot__index_0/species__index_0/TYPE',\n '/sx/input/parameters/sphinx__index_0/pawPot__index_0/species__index_0/VERSION',\n '/sx/input/parameters/sphinx__index_0/pawPot__index_0/species__index_0/__index_0/HDF_VERSION',\n '/sx/input/parameters/sphinx__index_0/pawPot__index_0/species__index_0/__index_0/NAME',\n '/sx/input/parameters/sphinx__index_0/pawPot__index_0/species__index_0/__index_0/OBJECT',\n '/sx/input/parameters/sphinx__index_0/pawPot__index_0/species__index_0/__index_0/READ_ONLY',\n '/sx/input/parameters/sphinx__index_0/pawPot__index_0/species__index_0/__index_0/TYPE',\n '/sx/input/parameters/sphinx__index_0/pawPot__index_0/species__index_0/__index_0/VERSION',\n '/sx/input/parameters/sphinx__index_0/pawPot__index_0/species__index_0/__index_0/element__index_2',\n '/sx/input/parameters/sphinx__index_0/pawPot__index_0/species__index_0/__index_0/name__index_0',\n '/sx/input/parameters/sphinx__index_0/pawPot__index_0/species__index_0/__index_0/potType__index_1',\n '/sx/input/parameters/sphinx__index_0/pawPot__index_0/species__index_0/__index_0/potential__index_3',\n '/sx/input/parameters/sphinx__index_0/structure__index_1/HDF_VERSION',\n '/sx/input/parameters/sphinx__index_0/structure__index_1/NAME',\n '/sx/input/parameters/sphinx__index_0/structure__index_1/OBJECT',\n '/sx/input/parameters/sphinx__index_0/structure__index_1/READ_ONLY',\n '/sx/input/parameters/sphinx__index_0/structure__index_1/TYPE',\n '/sx/input/parameters/sphinx__index_0/structure__index_1/VERSION',\n '/sx/input/parameters/sphinx__index_0/structure__index_1/cell__index_0',\n '/sx/input/parameters/sphinx__index_0/structure__index_1/species__index_1/HDF_VERSION',\n '/sx/input/parameters/sphinx__index_0/structure__index_1/species__index_1/NAME',\n '/sx/input/parameters/sphinx__index_0/structure__index_1/species__index_1/OBJECT',\n '/sx/input/parameters/sphinx__index_0/structure__index_1/species__index_1/READ_ONLY',\n '/sx/input/parameters/sphinx__index_0/structure__index_1/species__index_1/TYPE',\n '/sx/input/parameters/sphinx__index_0/structure__index_1/species__index_1/VERSION',\n '/sx/input/parameters/sphinx__index_0/structure__index_1/species__index_1/__index_0/HDF_VERSION',\n '/sx/input/parameters/sphinx__index_0/structure__index_1/species__index_1/__index_0/NAME',\n '/sx/input/parameters/sphinx__index_0/structure__index_1/species__index_1/__index_0/OBJECT',\n '/sx/input/parameters/sphinx__index_0/structure__index_1/species__index_1/__index_0/READ_ONLY',\n '/sx/input/parameters/sphinx__index_0/structure__index_1/species__index_1/__index_0/TYPE',\n '/sx/input/parameters/sphinx__index_0/structure__index_1/species__index_1/__index_0/VERSION',\n '/sx/input/parameters/sphinx__index_0/structure__index_1/species__index_1/__index_0/element__index_0',\n '/sx/input/parameters/sphinx__index_0/structure__index_1/species__index_1/__index_0/atom__index_1/HDF_VERSION',\n '/sx/input/parameters/sphinx__index_0/structure__index_1/species__index_1/__index_0/atom__index_1/NAME',\n '/sx/input/parameters/sphinx__index_0/structure__index_1/species__index_1/__index_0/atom__index_1/OBJECT',\n '/sx/input/parameters/sphinx__index_0/structure__index_1/species__index_1/__index_0/atom__index_1/READ_ONLY',\n '/sx/input/parameters/sphinx__index_0/structure__index_1/species__index_1/__index_0/atom__index_1/TYPE',\n '/sx/input/parameters/sphinx__index_0/structure__index_1/species__index_1/__index_0/atom__index_1/VERSION',\n '/sx/input/parameters/sphinx__index_0/structure__index_1/species__index_1/__index_0/atom__index_1/__index_0/HDF_VERSION',\n '/sx/input/parameters/sphinx__index_0/structure__index_1/species__index_1/__index_0/atom__index_1/__index_0/NAME',\n '/sx/input/parameters/sphinx__index_0/structure__index_1/species__index_1/__index_0/atom__index_1/__index_0/OBJECT',\n '/sx/input/parameters/sphinx__index_0/structure__index_1/species__index_1/__index_0/atom__index_1/__index_0/READ_ONLY',\n '/sx/input/parameters/sphinx__index_0/structure__index_1/species__index_1/__index_0/atom__index_1/__index_0/TYPE',\n '/sx/input/parameters/sphinx__index_0/structure__index_1/species__index_1/__index_0/atom__index_1/__index_0/VERSION',\n '/sx/input/parameters/sphinx__index_0/structure__index_1/species__index_1/__index_0/atom__index_1/__index_0/coords__index_1',\n '/sx/input/parameters/sphinx__index_0/structure__index_1/species__index_1/__index_0/atom__index_1/__index_0/label__index_0',\n '/sx/input/parameters/sphinx__index_0/structure__index_1/species__index_1/__index_0/atom__index_1/__index_0/movable__index_2',\n '/sx/input/parameters/sphinx__index_0/structure__index_1/species__index_1/__index_0/atom__index_1/__index_1/HDF_VERSION',\n '/sx/input/parameters/sphinx__index_0/structure__index_1/species__index_1/__index_0/atom__index_1/__index_1/NAME',\n '/sx/input/parameters/sphinx__index_0/structure__index_1/species__index_1/__index_0/atom__index_1/__index_1/OBJECT',\n '/sx/input/parameters/sphinx__index_0/structure__index_1/species__index_1/__index_0/atom__index_1/__index_1/READ_ONLY',\n '/sx/input/parameters/sphinx__index_0/structure__index_1/species__index_1/__index_0/atom__index_1/__index_1/TYPE',\n '/sx/input/parameters/sphinx__index_0/structure__index_1/species__index_1/__index_0/atom__index_1/__index_1/VERSION',\n '/sx/input/parameters/sphinx__index_0/structure__index_1/species__index_1/__index_0/atom__index_1/__index_1/coords__index_1',\n '/sx/input/parameters/sphinx__index_0/structure__index_1/species__index_1/__index_0/atom__index_1/__index_1/label__index_0',\n '/sx/input/parameters/sphinx__index_0/structure__index_1/species__index_1/__index_0/atom__index_1/__index_1/movable__index_2',\n '/sx/input/parameters/sphinx__index_0/structure__index_1/species__index_1/__index_0/atom__index_1/__index_2/HDF_VERSION',\n '/sx/input/parameters/sphinx__index_0/structure__index_1/species__index_1/__index_0/atom__index_1/__index_2/NAME',\n '/sx/input/parameters/sphinx__index_0/structure__index_1/species__index_1/__index_0/atom__index_1/__index_2/OBJECT',\n '/sx/input/parameters/sphinx__index_0/structure__index_1/species__index_1/__index_0/atom__index_1/__index_2/READ_ONLY',\n '/sx/input/parameters/sphinx__index_0/structure__index_1/species__index_1/__index_0/atom__index_1/__index_2/TYPE',\n '/sx/input/parameters/sphinx__index_0/structure__index_1/species__index_1/__index_0/atom__index_1/__index_2/VERSION',\n '/sx/input/parameters/sphinx__index_0/structure__index_1/species__index_1/__index_0/atom__index_1/__index_2/coords__index_1',\n '/sx/input/parameters/sphinx__index_0/structure__index_1/species__index_1/__index_0/atom__index_1/__index_2/label__index_0',\n '/sx/input/parameters/sphinx__index_0/structure__index_1/species__index_1/__index_0/atom__index_1/__index_2/movable__index_2',\n '/sx/input/parameters/sphinx__index_0/structure__index_1/species__index_1/__index_0/atom__index_1/__index_3/HDF_VERSION',\n '/sx/input/parameters/sphinx__index_0/structure__index_1/species__index_1/__index_0/atom__index_1/__index_3/NAME',\n '/sx/input/parameters/sphinx__index_0/structure__index_1/species__index_1/__index_0/atom__index_1/__index_3/OBJECT',\n '/sx/input/parameters/sphinx__index_0/structure__index_1/species__index_1/__index_0/atom__index_1/__index_3/READ_ONLY',\n '/sx/input/parameters/sphinx__index_0/structure__index_1/species__index_1/__index_0/atom__index_1/__index_3/TYPE',\n '/sx/input/parameters/sphinx__index_0/structure__index_1/species__index_1/__index_0/atom__index_1/__index_3/VERSION',\n '/sx/input/parameters/sphinx__index_0/structure__index_1/species__index_1/__index_0/atom__index_1/__index_3/coords__index_1',\n '/sx/input/parameters/sphinx__index_0/structure__index_1/species__index_1/__index_0/atom__index_1/__index_3/label__index_0',\n '/sx/input/parameters/sphinx__index_0/structure__index_1/species__index_1/__index_0/atom__index_1/__index_3/movable__index_2',\n '/sx/input/structure/TYPE',\n '/sx/input/structure/dimension',\n '/sx/input/structure/indices',\n '/sx/input/structure/info',\n '/sx/input/structure/positions',\n '/sx/input/structure/species',\n '/sx/input/structure/units',\n '/sx/input/structure/cell/cell',\n '/sx/input/structure/cell/pbc',\n '/sx/output/charge_density/TYPE',\n '/sx/output/charge_density/total',\n '/sx/output/electronic_structure/TYPE',\n '/sx/output/electronic_structure/efermi',\n '/sx/output/electronic_structure/eig_matrix',\n '/sx/output/electronic_structure/k_points',\n '/sx/output/electronic_structure/k_weights',\n '/sx/output/electronic_structure/occ_matrix',\n '/sx/output/electronic_structure/dos/energies',\n '/sx/output/electronic_structure/dos/int_densities',\n '/sx/output/electronic_structure/dos/tot_densities',\n '/sx/output/electrostatic_potential/TYPE',\n '/sx/output/electrostatic_potential/total',\n '/sx/output/generic/HDF_VERSION',\n '/sx/output/generic/NAME',\n '/sx/output/generic/OBJECT',\n '/sx/output/generic/READ_ONLY',\n '/sx/output/generic/TYPE',\n '/sx/output/generic/VERSION',\n '/sx/output/generic/cell__index_4',\n '/sx/output/generic/cells__index_7',\n '/sx/output/generic/energy_pot__index_6',\n '/sx/output/generic/energy_tot__index_5',\n '/sx/output/generic/forces__index_3',\n '/sx/output/generic/positions__index_1',\n '/sx/output/generic/volume__index_2',\n '/sx/output/generic/dft__index_0/HDF_VERSION',\n '/sx/output/generic/dft__index_0/NAME',\n '/sx/output/generic/dft__index_0/OBJECT',\n '/sx/output/generic/dft__index_0/READ_ONLY',\n '/sx/output/generic/dft__index_0/TYPE',\n '/sx/output/generic/dft__index_0/VERSION',\n '/sx/output/generic/dft__index_0/bands_e_fermi__index_4',\n '/sx/output/generic/dft__index_0/bands_eigen_values__index_6',\n '/sx/output/generic/dft__index_0/bands_k_weights__index_2',\n '/sx/output/generic/dft__index_0/bands_occ__index_5',\n '/sx/output/generic/dft__index_0/computation_time__index_16',\n '/sx/output/generic/dft__index_0/electronic_entropy__index_19',\n '/sx/output/generic/dft__index_0/energy_band__index_18',\n '/sx/output/generic/dft__index_0/energy_free__index_0',\n '/sx/output/generic/dft__index_0/energy_int__index_15',\n '/sx/output/generic/dft__index_0/energy_zero__index_17',\n '/sx/output/generic/dft__index_0/kpoints_cartesian__index_3',\n '/sx/output/generic/dft__index_0/n_valence__index_1',\n '/sx/output/generic/dft__index_0/residue__index_20',\n '/sx/output/generic/dft__index_0/scf_computation_time__index_10',\n '/sx/output/generic/dft__index_0/scf_convergence__index_7',\n '/sx/output/generic/dft__index_0/scf_electronic_entropy__index_13',\n '/sx/output/generic/dft__index_0/scf_energy_band__index_12',\n '/sx/output/generic/dft__index_0/scf_energy_free__index_9',\n '/sx/output/generic/dft__index_0/scf_energy_int__index_8',\n '/sx/output/generic/dft__index_0/scf_energy_zero__index_11',\n '/sx/output/generic/dft__index_0/scf_residue__index_14']"
     },
     "metadata": {}
    }
   ],
   "execution_count": 15
  },
  {
   "id": "665bf1f4-f4b1-4e7f-a2bf-a1c4216ad5f3",
   "cell_type": "markdown",
   "source": "# Write SPHInX job",
   "metadata": {}
  },
  {
   "id": "c338fd0c-ff15-45d7-8227-bbe82117ca15",
   "cell_type": "code",
   "source": "node_dict = {node: get_node_from_job_dict(job_dict=job_dict, node=node[1:]) for node in node_lst}",
   "metadata": {
    "trusted": true
   },
   "outputs": [],
   "execution_count": 16
  },
  {
   "id": "12320454-cbbc-4fbe-936b-a15e8c2dd744",
   "cell_type": "code",
   "source": "os.remove(file_name)",
   "metadata": {
    "trusted": true
   },
   "outputs": [],
   "execution_count": 17
  },
  {
   "id": "989f77eb",
   "cell_type": "code",
   "source": "write_dict_to_hdf(file_name=file_name, data_dict=node_dict)",
   "metadata": {
    "trusted": true
   },
   "outputs": [],
   "execution_count": 18
  },
  {
   "id": "dbb0c2c1-1873-4a6a-8419-119bd51a4684",
   "cell_type": "markdown",
   "source": "# Reload job",
   "metadata": {}
  },
  {
   "id": "cb00164e-25a4-4d0d-87bc-7ee9d14422f6",
   "cell_type": "code",
   "source": "job = pr.load(job.job_name)",
   "metadata": {
    "trusted": true
   },
   "outputs": [
    {
     "name": "stderr",
     "text": "/srv/conda/envs/notebook/lib/python3.10/site-packages/pyiron_base/interfaces/lockable.py:59: LockedWarning: __setitem__ called on <class 'pyiron_atomistics.sphinx.input_writer.Group'>, but object is locked!\n  warnings.warn(\n",
     "output_type": "stream"
    }
   ],
   "execution_count": 19
  },
  {
   "id": "8497be06-dd2c-446e-9f3f-7ea89e0aed4d",
   "cell_type": "code",
   "source": "job.input",
   "metadata": {
    "trusted": true
   },
   "outputs": [
    {
     "execution_count": 20,
     "output_type": "execute_result",
     "data": {
      "text/plain": "Group({'sphinx': Group({'pawPot': Group({'species': Group([Group({'name': '\"Al\"', 'potType': '\"AtomPAW\"', 'element': '\"Al\"', 'potential': '\"Al_GGA.atomicdata\"'})])}), 'structure': Group({'cell': array([[7.6533908, 0.       , 0.       ],\n       [0.       , 7.6533908, 0.       ],\n       [0.       , 0.       , 7.6533908]]), 'species': Group([Group({'element': '\"Al\"', 'atom': Group([Group({'label': '\"spin_0.0\"', 'coords': array([0., 0., 0.]), 'movable': 1}), Group({'label': '\"spin_0.0\"', 'coords': array([0.       , 3.8266954, 3.8266954]), 'movable': 1}), Group({'label': '\"spin_0.0\"', 'coords': array([3.8266954, 0.       , 3.8266954]), 'movable': 1}), Group({'label': '\"spin_0.0\"', 'coords': array([3.8266954, 3.8266954, 0.       ]), 'movable': 1})])})])}), 'basis': Group({'eCut': 24.989539079445393, 'kPoint': Group({'coords': array([0.5, 0.5, 0.5]), 'weight': 1, 'relative': 1}), 'folding': array([4, 4, 4]), 'saveMemory': 1}), 'PAWHamiltonian': Group({'nEmptyStates': 7, 'ekt': 0.2, 'MethfesselPaxton': 1, 'xc': 'PBE', 'spinPolarized': 0}), 'initialGuess': Group({'waves': Group({'pawBasis': 1, 'lcao': Group([])}), 'rho': Group({'atomicOrbitals': 1}), 'noWavesStorage': 0}), 'main': Group({'ricQN': Group({'maxSteps': '100', 'maxStepLength': '0.18897261246257704', 'bornOppenheimer': Group({'scfDiag': Group({'rhoMixing': '1.0', 'spinMixing': '1.0', 'dEnergy': 3.674932217565499e-06, 'maxSteps': '100', 'preconditioner': Group({'type': 'KERKER', 'scaling': 1.0, 'spinScaling': 1.0}), 'blockCCG': Group([])})})})})}), 'EnCut': 340, 'KpointCoords': [0.5, 0.5, 0.5], 'KpointFolding': [4, 4, 4], 'EmptyStates': 7, 'MethfesselPaxton': 1, 'Sigma': 0.2, 'Xcorr': 'PBE', 'VaspPot': 0, 'Estep': 100, 'Ediff': 0.0001, 'WriteWaves': 1, 'KJxc': 0, 'SaveMemory': 1, 'rhoMixing': 1.0, 'spinMixing': 1.0, 'rhoResidualScaling': 1.0, 'spinResidualScaling': 1.0, 'CheckOverlap': 1, 'THREADS': 1, 'use_on_the_fly_cg_optimization': 1, 'Istep': 100})",
      "text/html": "<pre>Group({\n  \"sphinx\": {\n    \"pawPot\": {\n      \"species\": [\n        {\n          \"name\": \"'\\\"Al\\\"'\",\n          \"potType\": \"'\\\"AtomPAW\\\"'\",\n          \"element\": \"'\\\"Al\\\"'\",\n          \"potential\": \"'\\\"Al_GGA.atomicdata\\\"'\"\n        }\n      ]\n    },\n    \"structure\": {\n      \"cell\": \"array([[7.6533908, 0.       , 0.       ],\\n       [0.       , 7.6533908, 0.       ],\\n       [0.       , 0.       , 7.6533908]])\",\n      \"species\": [\n        {\n          \"element\": \"'\\\"Al\\\"'\",\n          \"atom\": [\n            {\n              \"label\": \"'\\\"spin_0.0\\\"'\",\n              \"coords\": \"array([0., 0., 0.])\",\n              \"movable\": \"1\"\n            },\n            {\n              \"label\": \"'\\\"spin_0.0\\\"'\",\n              \"coords\": \"array([0.       , 3.8266954, 3.8266954])\",\n              \"movable\": \"1\"\n            },\n            {\n              \"label\": \"'\\\"spin_0.0\\\"'\",\n              \"coords\": \"array([3.8266954, 0.       , 3.8266954])\",\n              \"movable\": \"1\"\n            },\n            {\n              \"label\": \"'\\\"spin_0.0\\\"'\",\n              \"coords\": \"array([3.8266954, 3.8266954, 0.       ])\",\n              \"movable\": \"1\"\n            }\n          ]\n        }\n      ]\n    },\n    \"basis\": {\n      \"eCut\": \"24.989539079445393\",\n      \"kPoint\": {\n        \"coords\": \"array([0.5, 0.5, 0.5])\",\n        \"weight\": \"1\",\n        \"relative\": \"1\"\n      },\n      \"folding\": \"array([4, 4, 4])\",\n      \"saveMemory\": \"1\"\n    },\n    \"PAWHamiltonian\": {\n      \"nEmptyStates\": \"7\",\n      \"ekt\": \"0.2\",\n      \"MethfesselPaxton\": \"1\",\n      \"xc\": \"'PBE'\",\n      \"spinPolarized\": \"0\"\n    },\n    \"initialGuess\": {\n      \"waves\": {\n        \"pawBasis\": \"1\",\n        \"lcao\": []\n      },\n      \"rho\": {\n        \"atomicOrbitals\": \"1\"\n      },\n      \"noWavesStorage\": \"0\"\n    },\n    \"main\": {\n      \"ricQN\": {\n        \"maxSteps\": \"'100'\",\n        \"maxStepLength\": \"'0.18897261246257704'\",\n        \"bornOppenheimer\": {\n          \"scfDiag\": {\n            \"rhoMixing\": \"'1.0'\",\n            \"spinMixing\": \"'1.0'\",\n            \"dEnergy\": \"3.674932217565499e-06\",\n            \"maxSteps\": \"'100'\",\n            \"preconditioner\": {\n              \"type\": \"'KERKER'\",\n              \"scaling\": \"1.0\",\n              \"spinScaling\": \"1.0\"\n            },\n            \"blockCCG\": []\n          }\n        }\n      }\n    }\n  },\n  \"EnCut\": \"340\",\n  \"KpointCoords\": \"[0.5, 0.5, 0.5]\",\n  \"KpointFolding\": \"[4, 4, 4]\",\n  \"EmptyStates\": \"7\",\n  \"MethfesselPaxton\": \"1\",\n  \"Sigma\": \"0.2\",\n  \"Xcorr\": \"'PBE'\",\n  \"VaspPot\": \"0\",\n  \"Estep\": \"100\",\n  \"Ediff\": \"0.0001\",\n  \"WriteWaves\": \"1\",\n  \"KJxc\": \"0\",\n  \"SaveMemory\": \"1\",\n  \"rhoMixing\": \"1.0\",\n  \"spinMixing\": \"1.0\",\n  \"rhoResidualScaling\": \"1.0\",\n  \"spinResidualScaling\": \"1.0\",\n  \"CheckOverlap\": \"1\",\n  \"THREADS\": \"1\",\n  \"use_on_the_fly_cg_optimization\": \"1\",\n  \"Istep\": \"100\"\n})</pre>",
      "application/json": {
       "sphinx": {
        "pawPot": {
         "species": [
          {
           "name": "'\"Al\"'",
           "potType": "'\"AtomPAW\"'",
           "element": "'\"Al\"'",
           "potential": "'\"Al_GGA.atomicdata\"'"
          }
         ]
        },
        "structure": {
         "cell": "array([[7.6533908, 0.       , 0.       ],\n       [0.       , 7.6533908, 0.       ],\n       [0.       , 0.       , 7.6533908]])",
         "species": [
          {
           "element": "'\"Al\"'",
           "atom": [
            {
             "label": "'\"spin_0.0\"'",
             "coords": "array([0., 0., 0.])",
             "movable": "1"
            },
            {
             "label": "'\"spin_0.0\"'",
             "coords": "array([0.       , 3.8266954, 3.8266954])",
             "movable": "1"
            },
            {
             "label": "'\"spin_0.0\"'",
             "coords": "array([3.8266954, 0.       , 3.8266954])",
             "movable": "1"
            },
            {
             "label": "'\"spin_0.0\"'",
             "coords": "array([3.8266954, 3.8266954, 0.       ])",
             "movable": "1"
            }
           ]
          }
         ]
        },
        "basis": {
         "eCut": "24.989539079445393",
         "kPoint": {
          "coords": "array([0.5, 0.5, 0.5])",
          "weight": "1",
          "relative": "1"
         },
         "folding": "array([4, 4, 4])",
         "saveMemory": "1"
        },
        "PAWHamiltonian": {
         "nEmptyStates": "7",
         "ekt": "0.2",
         "MethfesselPaxton": "1",
         "xc": "'PBE'",
         "spinPolarized": "0"
        },
        "initialGuess": {
         "waves": {
          "pawBasis": "1",
          "lcao": []
         },
         "rho": {
          "atomicOrbitals": "1"
         },
         "noWavesStorage": "0"
        },
        "main": {
         "ricQN": {
          "maxSteps": "'100'",
          "maxStepLength": "'0.18897261246257704'",
          "bornOppenheimer": {
           "scfDiag": {
            "rhoMixing": "'1.0'",
            "spinMixing": "'1.0'",
            "dEnergy": "3.674932217565499e-06",
            "maxSteps": "'100'",
            "preconditioner": {
             "type": "'KERKER'",
             "scaling": "1.0",
             "spinScaling": "1.0"
            },
            "blockCCG": []
           }
          }
         }
        }
       },
       "EnCut": "340",
       "KpointCoords": "[0.5, 0.5, 0.5]",
       "KpointFolding": "[4, 4, 4]",
       "EmptyStates": "7",
       "MethfesselPaxton": "1",
       "Sigma": "0.2",
       "Xcorr": "'PBE'",
       "VaspPot": "0",
       "Estep": "100",
       "Ediff": "0.0001",
       "WriteWaves": "1",
       "KJxc": "0",
       "SaveMemory": "1",
       "rhoMixing": "1.0",
       "spinMixing": "1.0",
       "rhoResidualScaling": "1.0",
       "spinResidualScaling": "1.0",
       "CheckOverlap": "1",
       "THREADS": "1",
       "use_on_the_fly_cg_optimization": "1",
       "Istep": "100"
      }
     },
     "metadata": {}
    }
   ],
   "execution_count": 20
  },
  {
   "id": "b0eb0a68-29c5-4eea-bfaf-ff59a9ee505d",
   "cell_type": "code",
   "source": "job.output.generic",
   "metadata": {
    "trusted": true
   },
   "outputs": [
    {
     "execution_count": 21,
     "output_type": "execute_result",
     "data": {
      "text/plain": "DataContainer({'dft': DataContainer({'energy_free': array([-228.78316018, -228.78315944]), 'n_valence': {'Al': 3}, 'bands_k_weights': array([0.125, 0.375, 0.375, 0.125]), 'kpoints_cartesian': array([[0.1592067, 0.1592067, 0.1592067],\n       [0.1592067, 0.1592067, 0.4776201],\n       [0.1592067, 0.4776201, 0.4776201],\n       [0.4776201, 0.4776201, 0.4776201]]), 'bands_e_fermi': array([5.864736, 5.702807, 5.702836, 5.702855]), 'bands_occ': array([[[ 2.    ,  2.    ,  2.    ,  2.    , -0.0703, -0.0704, -0.0704,\n          0.    ,  0.    ,  0.    ,  0.    ,  0.    ,  0.    ],\n        [ 2.    ,  2.    ,  2.    ,  2.    ,  2.    ,  2.    , -0.    ,\n         -0.    ,  0.    ,  0.    ,  0.    ,  0.    ,  0.    ],\n        [ 2.    ,  2.    ,  2.    ,  2.    ,  2.    ,  1.0356,  1.0347,\n          0.    ,  0.    ,  0.    ,  0.    ,  0.    ,  0.    ],\n        [ 2.    ,  2.    ,  2.    ,  2.    ,  2.    ,  2.    ,  2.    ,\n          2.    ,  0.    ,  0.    ,  0.    ,  0.    ,  0.    ]],\n\n       [[ 2.    ,  2.    ,  2.    ,  2.    , -0.0704, -0.0704, -0.0704,\n          0.    ,  0.    ,  0.    ,  0.    ,  0.    ,  0.    ],\n        [ 2.    ,  2.    ,  2.    ,  2.    ,  2.    ,  2.    , -0.    ,\n         -0.    ,  0.    ,  0.    ,  0.    ,  0.    ,  0.    ],\n        [ 2.    ,  2.    ,  2.    ,  2.    ,  2.    ,  1.0352,  1.0352,\n          0.    ,  0.    ,  0.    ,  0.    ,  0.    ,  0.    ],\n        [ 2.    ,  2.    ,  2.    ,  2.    ,  2.    ,  2.    ,  2.    ,\n          2.    ,  0.    ,  0.    ,  0.    ,  0.    ,  0.    ]]]), 'bands_eigen_values': array([[[-5.14  ,  1.4238,  1.4239,  1.4239,  5.9394,  5.9395,  5.9395,\n          7.7794,  7.7795,  7.7795, 11.4633, 11.4633, 11.4635],\n        [-4.0193, -1.8032,  2.4931,  2.4931,  4.6313,  4.6314,  7.0212,\n          7.0213,  8.8035,  9.1646,  9.1649, 10.894 , 11.1662],\n        [-2.9064, -0.7059, -0.7059,  1.4615,  3.5798,  5.6986,  5.6987,\n          7.8085,  8.0932, 10.1434, 10.1435, 12.2068, 13.4422],\n        [-1.8011,  0.3824,  0.3824,  0.3824,  2.5573,  2.5575,  2.5575,\n          4.693 , 13.1792, 13.1793, 13.1793, 14.4332, 14.4334]],\n\n       [[-5.14  ,  1.4239,  1.4239,  1.4239,  5.9395,  5.9395,  5.9395,\n          7.7795,  7.7795,  7.7795, 11.4635, 11.4635, 11.4635],\n        [-4.0192, -1.8032,  2.4931,  2.4931,  4.6314,  4.6314,  7.0213,\n          7.0213,  8.8036,  9.1648,  9.1648, 10.8941, 11.1662],\n        [-2.9064, -0.7059, -0.7059,  1.4616,  3.5798,  5.6987,  5.6987,\n          7.8086,  8.0932, 10.1435, 10.1435, 12.2069, 13.4422],\n        [-1.8011,  0.3824,  0.3824,  0.3824,  2.5575,  2.5575,  2.5575,\n          4.6931, 13.1794, 13.1794, 13.1794, 14.4334, 14.4334]]]), 'scf_convergence': [True, True], 'scf_energy_int': array([array([-227.76073135, -228.76487746, -228.75055037, -228.75030395,\n              -228.75029236])                                            ,\n       array([-228.75029155, -228.75029152])], dtype=object), 'scf_energy_free': array([array([-227.79757673, -228.79771858, -228.78341073, -228.78317077,\n              -228.78316018])                                            ,\n       array([-228.78315943, -228.78315944])], dtype=object), 'scf_computation_time': array([array([1.32064 , 2.660864, 3.98608 , 5.339911, 6.683524]),\n       array([7.981192, 9.316789])], dtype=object), 'scf_energy_zero': array([array([-227.78836538, -228.7895083 , -228.77519564, -228.77495407,\n              -228.77494323])                                            ,\n       array([-228.77494246, -228.77494246])], dtype=object), 'scf_energy_band': array([array([15.05566482, 13.62260753, 13.80978426, 13.83579452, 13.84051221]),\n       array([13.84081386, 13.84101605])], dtype=object), 'scf_electronic_entropy': array([array([5.01306946, 4.46826186, 4.47087874, 4.47175913, 4.47189425]),\n       array([4.47190311, 4.4719075 ])], dtype=object), 'scf_residue': array([array([5.57072e-03, 1.65550e-03, 2.37401e-04, 4.03935e-05, 6.62098e-06]),\n       array([1.48271e-06, 1.86194e-07])], dtype=object), 'energy_int': array([-228.75029236, -228.75029152]), 'computation_time': array([6.683524, 9.316789]), 'energy_zero': array([-228.77494323, -228.77494246]), 'energy_band': array([13.84051221, 13.84101605]), 'electronic_entropy': array([4.47189425, 4.4719075 ]), 'residue': array([6.62098e-06, 1.86194e-07])}), 'positions': array([[[ 0.   ,  0.   ,  0.   ],\n        [ 0.   ,  2.025,  2.025],\n        [ 2.025,  0.   ,  2.025],\n        [ 2.025,  2.025,  0.   ]],\n\n       [[ 0.   , -0.   ,  0.   ],\n        [-0.   ,  2.025,  2.025],\n        [ 2.025,  0.   ,  2.025],\n        [ 2.025,  2.025,  0.   ]]]), 'volume': array([66.43016886, 66.43016886]), 'forces': array([[[ 0., -0.,  0.],\n        [-0.,  0., -0.],\n        [-0., -0., -0.],\n        [ 0.,  0.,  0.]],\n\n       [[ 0.,  0.,  0.],\n        [ 0., -0.,  0.],\n        [-0.,  0.,  0.],\n        [-0., -0.,  0.]]]), 'cell': array([[[4.05, 0.  , 0.  ],\n        [0.  , 4.05, 0.  ],\n        [0.  , 0.  , 4.05]],\n\n       [[4.05, 0.  , 0.  ],\n        [0.  , 4.05, 0.  ],\n        [0.  , 0.  , 4.05]]]), 'energy_tot': array([-228.78316018, -228.78315944]), 'energy_pot': array([-228.78316018, -228.78315944]), 'cells': array([[[4.05, 0.  , 0.  ],\n        [0.  , 4.05, 0.  ],\n        [0.  , 0.  , 4.05]],\n\n       [[4.05, 0.  , 0.  ],\n        [0.  , 4.05, 0.  ],\n        [0.  , 0.  , 4.05]]])})",
      "text/html": "<pre>DataContainer({\n  \"dft\": {\n    \"energy_free\": \"array([-228.78316018, -228.78315944])\",\n    \"n_valence\": \"{'Al': 3}\",\n    \"bands_k_weights\": \"array([0.125, 0.375, 0.375, 0.125])\",\n    \"kpoints_cartesian\": \"array([[0.1592067, 0.1592067, 0.1592067],\\n       [0.1592067, 0.1592067, 0.4776201],\\n       [0.1592067, 0.4776201, 0.4776201],\\n       [0.4776201, 0.4776201, 0.4776201]])\",\n    \"bands_e_fermi\": \"array([5.864736, 5.702807, 5.702836, 5.702855])\",\n    \"bands_occ\": \"array([[[ 2.    ,  2.    ,  2.    ,  2.    , -0.0703, -0.0704, -0.0704,\\n          0.    ,  0.    ,  0.    ,  0.    ,  0.    ,  0.    ],\\n        [ 2.    ,  2.    ,  2.    ,  2.    ,  2.    ,  2.    , -0.    ,\\n         -0.    ,  0.    ,  0.    ,  0.    ,  0.    ,  0.    ],\\n        [ 2.    ,  2.    ,  2.    ,  2.    ,  2.    ,  1.0356,  1.0347,\\n          0.    ,  0.    ,  0.    ,  0.    ,  0.    ,  0.    ],\\n        [ 2.    ,  2.    ,  2.    ,  2.    ,  2.    ,  2.    ,  2.    ,\\n          2.    ,  0.    ,  0.    ,  0.    ,  0.    ,  0.    ]],\\n\\n       [[ 2.    ,  2.    ,  2.    ,  2.    , -0.0704, -0.0704, -0.0704,\\n          0.    ,  0.    ,  0.    ,  0.    ,  0.    ,  0.    ],\\n        [ 2.    ,  2.    ,  2.    ,  2.    ,  2.    ,  2.    , -0.    ,\\n         -0.    ,  0.    ,  0.    ,  0.    ,  0.    ,  0.    ],\\n        [ 2.    ,  2.    ,  2.    ,  2.    ,  2.    ,  1.0352,  1.0352,\\n          0.    ,  0.    ,  0.    ,  0.    ,  0.    ,  0.    ],\\n        [ 2.    ,  2.    ,  2.    ,  2.    ,  2.    ,  2.    ,  2.    ,\\n          2.    ,  0.    ,  0.    ,  0.    ,  0.    ,  0.    ]]])\",\n    \"bands_eigen_values\": \"array([[[-5.14  ,  1.4238,  1.4239,  1.4239,  5.9394,  5.9395,  5.9395,\\n          7.7794,  7.7795,  7.7795, 11.4633, 11.4633, 11.4635],\\n        [-4.0193, -1.8032,  2.4931,  2.4931,  4.6313,  4.6314,  7.0212,\\n          7.0213,  8.8035,  9.1646,  9.1649, 10.894 , 11.1662],\\n        [-2.9064, -0.7059, -0.7059,  1.4615,  3.5798,  5.6986,  5.6987,\\n          7.8085,  8.0932, 10.1434, 10.1435, 12.2068, 13.4422],\\n        [-1.8011,  0.3824,  0.3824,  0.3824,  2.5573,  2.5575,  2.5575,\\n          4.693 , 13.1792, 13.1793, 13.1793, 14.4332, 14.4334]],\\n\\n       [[-5.14  ,  1.4239,  1.4239,  1.4239,  5.9395,  5.9395,  5.9395,\\n          7.7795,  7.7795,  7.7795, 11.4635, 11.4635, 11.4635],\\n        [-4.0192, -1.8032,  2.4931,  2.4931,  4.6314,  4.6314,  7.0213,\\n          7.0213,  8.8036,  9.1648,  9.1648, 10.8941, 11.1662],\\n        [-2.9064, -0.7059, -0.7059,  1.4616,  3.5798,  5.6987,  5.6987,\\n          7.8086,  8.0932, 10.1435, 10.1435, 12.2069, 13.4422],\\n        [-1.8011,  0.3824,  0.3824,  0.3824,  2.5575,  2.5575,  2.5575,\\n          4.6931, 13.1794, 13.1794, 13.1794, 14.4334, 14.4334]]])\",\n    \"scf_convergence\": \"[True, True]\",\n    \"scf_energy_int\": \"array([array([-227.76073135, -228.76487746, -228.75055037, -228.75030395,\\n              -228.75029236])                                            ,\\n       array([-228.75029155, -228.75029152])], dtype=object)\",\n    \"scf_energy_free\": \"array([array([-227.79757673, -228.79771858, -228.78341073, -228.78317077,\\n              -228.78316018])                                            ,\\n       array([-228.78315943, -228.78315944])], dtype=object)\",\n    \"scf_computation_time\": \"array([array([1.32064 , 2.660864, 3.98608 , 5.339911, 6.683524]),\\n       array([7.981192, 9.316789])], dtype=object)\",\n    \"scf_energy_zero\": \"array([array([-227.78836538, -228.7895083 , -228.77519564, -228.77495407,\\n              -228.77494323])                                            ,\\n       array([-228.77494246, -228.77494246])], dtype=object)\",\n    \"scf_energy_band\": \"array([array([15.05566482, 13.62260753, 13.80978426, 13.83579452, 13.84051221]),\\n       array([13.84081386, 13.84101605])], dtype=object)\",\n    \"scf_electronic_entropy\": \"array([array([5.01306946, 4.46826186, 4.47087874, 4.47175913, 4.47189425]),\\n       array([4.47190311, 4.4719075 ])], dtype=object)\",\n    \"scf_residue\": \"array([array([5.57072e-03, 1.65550e-03, 2.37401e-04, 4.03935e-05, 6.62098e-06]),\\n       array([1.48271e-06, 1.86194e-07])], dtype=object)\",\n    \"energy_int\": \"array([-228.75029236, -228.75029152])\",\n    \"computation_time\": \"array([6.683524, 9.316789])\",\n    \"energy_zero\": \"array([-228.77494323, -228.77494246])\",\n    \"energy_band\": \"array([13.84051221, 13.84101605])\",\n    \"electronic_entropy\": \"array([4.47189425, 4.4719075 ])\",\n    \"residue\": \"array([6.62098e-06, 1.86194e-07])\"\n  },\n  \"positions\": \"array([[[ 0.   ,  0.   ,  0.   ],\\n        [ 0.   ,  2.025,  2.025],\\n        [ 2.025,  0.   ,  2.025],\\n        [ 2.025,  2.025,  0.   ]],\\n\\n       [[ 0.   , -0.   ,  0.   ],\\n        [-0.   ,  2.025,  2.025],\\n        [ 2.025,  0.   ,  2.025],\\n        [ 2.025,  2.025,  0.   ]]])\",\n  \"volume\": \"array([66.43016886, 66.43016886])\",\n  \"forces\": \"array([[[ 0., -0.,  0.],\\n        [-0.,  0., -0.],\\n        [-0., -0., -0.],\\n        [ 0.,  0.,  0.]],\\n\\n       [[ 0.,  0.,  0.],\\n        [ 0., -0.,  0.],\\n        [-0.,  0.,  0.],\\n        [-0., -0.,  0.]]])\",\n  \"cell\": \"array([[[4.05, 0.  , 0.  ],\\n        [0.  , 4.05, 0.  ],\\n        [0.  , 0.  , 4.05]],\\n\\n       [[4.05, 0.  , 0.  ],\\n        [0.  , 4.05, 0.  ],\\n        [0.  , 0.  , 4.05]]])\",\n  \"energy_tot\": \"array([-228.78316018, -228.78315944])\",\n  \"energy_pot\": \"array([-228.78316018, -228.78315944])\",\n  \"cells\": \"array([[[4.05, 0.  , 0.  ],\\n        [0.  , 4.05, 0.  ],\\n        [0.  , 0.  , 4.05]],\\n\\n       [[4.05, 0.  , 0.  ],\\n        [0.  , 4.05, 0.  ],\\n        [0.  , 0.  , 4.05]]])\"\n})</pre>",
      "application/json": {
       "dft": {
        "energy_free": "array([-228.78316018, -228.78315944])",
        "n_valence": "{'Al': 3}",
        "bands_k_weights": "array([0.125, 0.375, 0.375, 0.125])",
        "kpoints_cartesian": "array([[0.1592067, 0.1592067, 0.1592067],\n       [0.1592067, 0.1592067, 0.4776201],\n       [0.1592067, 0.4776201, 0.4776201],\n       [0.4776201, 0.4776201, 0.4776201]])",
        "bands_e_fermi": "array([5.864736, 5.702807, 5.702836, 5.702855])",
        "bands_occ": "array([[[ 2.    ,  2.    ,  2.    ,  2.    , -0.0703, -0.0704, -0.0704,\n          0.    ,  0.    ,  0.    ,  0.    ,  0.    ,  0.    ],\n        [ 2.    ,  2.    ,  2.    ,  2.    ,  2.    ,  2.    , -0.    ,\n         -0.    ,  0.    ,  0.    ,  0.    ,  0.    ,  0.    ],\n        [ 2.    ,  2.    ,  2.    ,  2.    ,  2.    ,  1.0356,  1.0347,\n          0.    ,  0.    ,  0.    ,  0.    ,  0.    ,  0.    ],\n        [ 2.    ,  2.    ,  2.    ,  2.    ,  2.    ,  2.    ,  2.    ,\n          2.    ,  0.    ,  0.    ,  0.    ,  0.    ,  0.    ]],\n\n       [[ 2.    ,  2.    ,  2.    ,  2.    , -0.0704, -0.0704, -0.0704,\n          0.    ,  0.    ,  0.    ,  0.    ,  0.    ,  0.    ],\n        [ 2.    ,  2.    ,  2.    ,  2.    ,  2.    ,  2.    , -0.    ,\n         -0.    ,  0.    ,  0.    ,  0.    ,  0.    ,  0.    ],\n        [ 2.    ,  2.    ,  2.    ,  2.    ,  2.    ,  1.0352,  1.0352,\n          0.    ,  0.    ,  0.    ,  0.    ,  0.    ,  0.    ],\n        [ 2.    ,  2.    ,  2.    ,  2.    ,  2.    ,  2.    ,  2.    ,\n          2.    ,  0.    ,  0.    ,  0.    ,  0.    ,  0.    ]]])",
        "bands_eigen_values": "array([[[-5.14  ,  1.4238,  1.4239,  1.4239,  5.9394,  5.9395,  5.9395,\n          7.7794,  7.7795,  7.7795, 11.4633, 11.4633, 11.4635],\n        [-4.0193, -1.8032,  2.4931,  2.4931,  4.6313,  4.6314,  7.0212,\n          7.0213,  8.8035,  9.1646,  9.1649, 10.894 , 11.1662],\n        [-2.9064, -0.7059, -0.7059,  1.4615,  3.5798,  5.6986,  5.6987,\n          7.8085,  8.0932, 10.1434, 10.1435, 12.2068, 13.4422],\n        [-1.8011,  0.3824,  0.3824,  0.3824,  2.5573,  2.5575,  2.5575,\n          4.693 , 13.1792, 13.1793, 13.1793, 14.4332, 14.4334]],\n\n       [[-5.14  ,  1.4239,  1.4239,  1.4239,  5.9395,  5.9395,  5.9395,\n          7.7795,  7.7795,  7.7795, 11.4635, 11.4635, 11.4635],\n        [-4.0192, -1.8032,  2.4931,  2.4931,  4.6314,  4.6314,  7.0213,\n          7.0213,  8.8036,  9.1648,  9.1648, 10.8941, 11.1662],\n        [-2.9064, -0.7059, -0.7059,  1.4616,  3.5798,  5.6987,  5.6987,\n          7.8086,  8.0932, 10.1435, 10.1435, 12.2069, 13.4422],\n        [-1.8011,  0.3824,  0.3824,  0.3824,  2.5575,  2.5575,  2.5575,\n          4.6931, 13.1794, 13.1794, 13.1794, 14.4334, 14.4334]]])",
        "scf_convergence": "[True, True]",
        "scf_energy_int": "array([array([-227.76073135, -228.76487746, -228.75055037, -228.75030395,\n              -228.75029236])                                            ,\n       array([-228.75029155, -228.75029152])], dtype=object)",
        "scf_energy_free": "array([array([-227.79757673, -228.79771858, -228.78341073, -228.78317077,\n              -228.78316018])                                            ,\n       array([-228.78315943, -228.78315944])], dtype=object)",
        "scf_computation_time": "array([array([1.32064 , 2.660864, 3.98608 , 5.339911, 6.683524]),\n       array([7.981192, 9.316789])], dtype=object)",
        "scf_energy_zero": "array([array([-227.78836538, -228.7895083 , -228.77519564, -228.77495407,\n              -228.77494323])                                            ,\n       array([-228.77494246, -228.77494246])], dtype=object)",
        "scf_energy_band": "array([array([15.05566482, 13.62260753, 13.80978426, 13.83579452, 13.84051221]),\n       array([13.84081386, 13.84101605])], dtype=object)",
        "scf_electronic_entropy": "array([array([5.01306946, 4.46826186, 4.47087874, 4.47175913, 4.47189425]),\n       array([4.47190311, 4.4719075 ])], dtype=object)",
        "scf_residue": "array([array([5.57072e-03, 1.65550e-03, 2.37401e-04, 4.03935e-05, 6.62098e-06]),\n       array([1.48271e-06, 1.86194e-07])], dtype=object)",
        "energy_int": "array([-228.75029236, -228.75029152])",
        "computation_time": "array([6.683524, 9.316789])",
        "energy_zero": "array([-228.77494323, -228.77494246])",
        "energy_band": "array([13.84051221, 13.84101605])",
        "electronic_entropy": "array([4.47189425, 4.4719075 ])",
        "residue": "array([6.62098e-06, 1.86194e-07])"
       },
       "positions": "array([[[ 0.   ,  0.   ,  0.   ],\n        [ 0.   ,  2.025,  2.025],\n        [ 2.025,  0.   ,  2.025],\n        [ 2.025,  2.025,  0.   ]],\n\n       [[ 0.   , -0.   ,  0.   ],\n        [-0.   ,  2.025,  2.025],\n        [ 2.025,  0.   ,  2.025],\n        [ 2.025,  2.025,  0.   ]]])",
       "volume": "array([66.43016886, 66.43016886])",
       "forces": "array([[[ 0., -0.,  0.],\n        [-0.,  0., -0.],\n        [-0., -0., -0.],\n        [ 0.,  0.,  0.]],\n\n       [[ 0.,  0.,  0.],\n        [ 0., -0.,  0.],\n        [-0.,  0.,  0.],\n        [-0., -0.,  0.]]])",
       "cell": "array([[[4.05, 0.  , 0.  ],\n        [0.  , 4.05, 0.  ],\n        [0.  , 0.  , 4.05]],\n\n       [[4.05, 0.  , 0.  ],\n        [0.  , 4.05, 0.  ],\n        [0.  , 0.  , 4.05]]])",
       "energy_tot": "array([-228.78316018, -228.78315944])",
       "energy_pot": "array([-228.78316018, -228.78315944])",
       "cells": "array([[[4.05, 0.  , 0.  ],\n        [0.  , 4.05, 0.  ],\n        [0.  , 0.  , 4.05]],\n\n       [[4.05, 0.  , 0.  ],\n        [0.  , 4.05, 0.  ],\n        [0.  , 0.  , 4.05]]])"
      }
     },
     "metadata": {}
    }
   ],
   "execution_count": 21
  },
  {
   "id": "7011db5d-c324-4126-b956-5fbad85294a0",
   "cell_type": "code",
   "source": "",
   "metadata": {
    "trusted": true
   },
   "outputs": [],
   "execution_count": null
  }
 ]
}
